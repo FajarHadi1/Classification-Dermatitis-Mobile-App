{
  "nbformat": 4,
  "nbformat_minor": 0,
  "metadata": {
    "colab": {
      "provenance": [],
      "authorship_tag": "ABX9TyO9VvgD/CMAqm7BipstTDWS",
      "include_colab_link": true
    },
    "kernelspec": {
      "name": "python3",
      "display_name": "Python 3"
    },
    "language_info": {
      "name": "python"
    },
  },
  "cells": [
    {
      "cell_type": "markdown",
      "metadata": {
        "id": "view-in-github",
        "colab_type": "text"
      },
      "source": [
        "<a href=\"https://colab.research.google.com/github/FajarHadi1/Classification-Dermatitis-Mobile-App/blob/main/API_APP_PA.ipynb\" target=\"_parent\"><img src=\"https://colab.research.google.com/assets/colab-badge.svg\" alt=\"Open In Colab\"/></a>"
      ]
    },
    {
      "cell_type": "code",
      "source": [
        "!pip install -q flask flask-cors pyngrok huggingface_hub python-dotenv"
      ],
      "metadata": {
        "id": "YNt1cPHmgTdZ"
      },
      "execution_count": null,
      "outputs": []
    },
    {
      "cell_type": "code",
      "source": [
        "from flask import Flask, request, jsonify\n",
        "from flask_cors import CORS\n",
        "from huggingface_hub import snapshot_download, login\n",
        "from keras.layers import TFSMLayer\n",
        "from PIL import Image\n",
        "from io import BytesIO\n",
        "import numpy as np\n",
        "import tensorflow as tf\n",
        "from tensorflow.keras.applications.resnet50 import preprocess_input\n",
        "import os\n",
        "\n",
        "from pyngrok import ngrok\n",
        "\n",
        "# === Hugging Face Token ===\n",
        "HF_TOKEN = '[token_anda]'  # <- Ganti dengan milikmu\n",
        "login(token=HF_TOKEN)\n",
        "\n",
        "# === Flask App ===\n",
        "app = Flask(__name__)\n",
        "CORS(app)\n",
        "\n",
        "UPLOAD_FOLDER = 'uploads'\n",
        "os.makedirs(UPLOAD_FOLDER, exist_ok=True)\n",
        "\n",
        "# === Load Models ===\n",
        "label_map = {\n",
        "    0: \"Allergic Contact Dermatitis\",\n",
        "    1: \"Atopic Dermatitis\",\n",
        "    2: \"Seborrhoeic Dermatitis\",\n",
        "    3: \"Sehat\"\n",
        "}\n",
        "\n",
        "IMG_SIZE = (448, 448)\n",
        "RESNET_IMG_SIZE = (224, 224)\n",
        "\n",
        "resnet_model_path = \"/content/resnet.h5\"\n",
        "derm_model_path = \"/content/derm.h5\"\n",
        "\n",
        "try:\n",
        "    resnet_model = tf.keras.models.load_model(resnet_model_path)\n",
        "    print(\"[INFO] ResNet model loaded\")\n",
        "except Exception as e:\n",
        "    print(\"[ERROR] Failed to load ResNet model:\", e)\n",
        "    resnet_model = None\n",
        "\n",
        "try:\n",
        "    derm_path = snapshot_download(\"google/derm-foundation\")\n",
        "    derm_infer = TFSMLayer(derm_path, call_endpoint=\"serving_default\")\n",
        "    print(\"[INFO] Derm Foundation loaded\")\n",
        "except Exception as e:\n",
        "    print(\"[ERROR] Failed to load HF Derm Foundation model:\", e)\n",
        "    resnet_model = None\n",
        "\n",
        "try:\n",
        "    derm_classifier = tf.keras.models.load_model(derm_model_path)\n",
        "    print(\"[INFO] derm.h5 loaded\")\n",
        "except Exception as e:\n",
        "    print(\"[ERROR] Failed to load Derm Classifier model:\", e)\n",
        "    resnet_model = None\n",
        "\n",
        "# === Preprocessing ===\n",
        "def load_resnet_image(image_path):\n",
        "    img = Image.open(image_path).convert('RGB')\n",
        "    img = img.resize(RESNET_IMG_SIZE)\n",
        "    img_array = np.array(img).astype(np.float32)\n",
        "    img_array = preprocess_input(img_array)\n",
        "    return np.expand_dims(img_array, axis=0)\n",
        "\n",
        "def preprocess_and_embed_image(image_path):\n",
        "    try:\n",
        "        img = Image.open(image_path).convert('RGB')\n",
        "        img = img.resize(IMG_SIZE)\n",
        "        img_array = np.array(img).astype(np.float32) / 255.0\n",
        "\n",
        "        pil_img = Image.fromarray((img_array * 255).astype('uint8'))\n",
        "        buf = BytesIO()\n",
        "        pil_img.save(buf, format='PNG')\n",
        "        image_bytes = buf.getvalue()\n",
        "\n",
        "        example = tf.train.Example(features=tf.train.Features(\n",
        "            feature={'image/encoded': tf.train.Feature(\n",
        "                bytes_list=tf.train.BytesList(value=[image_bytes]))}\n",
        "        )).SerializeToString()\n",
        "\n",
        "        result = derm_infer(tf.constant([example]))\n",
        "        embedding = result['embedding'].numpy().flatten()\n",
        "        return embedding.reshape(1, -1)\n",
        "    except Exception as e:\n",
        "        print(\"[ERROR]:\", e)\n",
        "        return None\n",
        "\n",
        "# === Prediction Endpoint ===\n",
        "@app.route(\"/predict\", methods=[\"POST\"])\n",
        "def predict():\n",
        "    if 'file' not in request.files or 'model_choice' not in request.form:\n",
        "        return jsonify({'error': 'Missing file or model_choice'}), 400\n",
        "\n",
        "    file = request.files['file']\n",
        "    model_choice = request.form['model_choice']\n",
        "\n",
        "    if file.filename == '':\n",
        "        return jsonify({'error': 'No file selected'}), 400\n",
        "\n",
        "    filepath = os.path.join(UPLOAD_FOLDER, file.filename)\n",
        "    file.save(filepath)\n",
        "\n",
        "    try:\n",
        "        if model_choice == 'resnet':\n",
        "            img_array = load_resnet_image(filepath)\n",
        "            preds = resnet_model.predict(img_array)\n",
        "            idx = np.argmax(preds)\n",
        "            label = label_map.get(idx, \"Unknown\")\n",
        "            confidence = float(np.max(preds))\n",
        "\n",
        "        elif model_choice == 'derm':\n",
        "            embedding = preprocess_and_embed_image(filepath)\n",
        "            if embedding is None:\n",
        "                raise Exception(\"Embedding failed.\")\n",
        "            preds = derm_classifier.predict(embedding)\n",
        "            idx = np.argmax(preds)\n",
        "            label = label_map.get(idx, \"Unknown\")\n",
        "            confidence = float(np.max(preds))\n",
        "        else:\n",
        "            raise Exception(\"Invalid model choice\")\n",
        "\n",
        "        return jsonify({\n",
        "            'predicted_class': label,\n",
        "            'confidence': round(confidence, 4)\n",
        "        })\n",
        "    except Exception as e:\n",
        "        return jsonify({'error': str(e)}), 500\n",
        "    finally:\n",
        "        os.remove(filepath)\n"
      ],
      "metadata": {
        "colab": {
          "base_uri": "https://localhost:8080/",
          "height": 156,
          "referenced_widgets": [
            "063e96b5740845b3b7826406d19a09d8",
            "2bb27e211d1f4f6ba13102a69ae517f2",
            "7eda182c9b204ff9821d76d35c63e412",
            "f1c7fa389b474afa915f7dac9422440c",
            "3297d99174ac4430a78ff52828e9f2e0",
            "522ef243fc2845fdb682768c2b9369c9",
            "c96e228b3a1f4b47b72600697ec4b6e4",
            "50b3f21a8517461eade859cd754b650a",
            "67efc66f0323421ba16cd7b8775ac38e",
            "510432d5b31842658310da4275ed228b",
            "230900491b1b49bcb7e7da05256f5b75"
          ]
        },
        "id": "A4etYsvcgaqO",
        "outputId": "80f3ffe3-70c4-43e5-ca76-10b4c97cd6cb"
      },
      "execution_count": null,
      "outputs": [
        {
          "output_type": "stream",
          "name": "stderr",
          "text": [
            "WARNING:absl:Compiled the loaded model, but the compiled metrics have yet to be built. `model.compile_metrics` will be empty until you train or evaluate the model.\n"
          ]
        },
        {
          "output_type": "stream",
          "name": "stdout",
          "text": [
            "[INFO] ResNet model loaded\n"
          ]
        },
        {
          "output_type": "display_data",
          "data": {
            "text/plain": [
              "Fetching 7 files:   0%|          | 0/7 [00:00<?, ?it/s]"
            ],
            "application/vnd.jupyter.widget-view+json": {
              "version_major": 2,
              "version_minor": 0,
              "model_id": "063e96b5740845b3b7826406d19a09d8"
            }
          },
          "metadata": {}
        },
        {
          "output_type": "stream",
          "name": "stderr",
          "text": [
            "WARNING:absl:Compiled the loaded model, but the compiled metrics have yet to be built. `model.compile_metrics` will be empty until you train or evaluate the model.\n"
          ]
        },
        {
          "output_type": "stream",
          "name": "stdout",
          "text": [
            "[INFO] Derm Foundation loaded\n",
            "[INFO] derm.h5 loaded\n"
          ]
        }
      ]
    },
    {
      "cell_type": "code",
      "source": [
        "# Jalankan ngrok dan Flask\n",
        "from threading import Thread\n",
        "from pyngrok import ngrok\n",
        "\n",
        "# Ganti dengan token kamu sendiri\n",
        "ngrok.set_auth_token(\"308rlhQXlzWTYyecEstXd5CnkoD_5sEPULzRSg1LZJN7FsKRv\")\n",
        "\n",
        "def run():\n",
        "    app.run(host='0.0.0.0', port=5000)\n",
        "\n",
        "# Start Flask in background\n",
        "Thread(target=run).start()\n",
        "\n",
        "ngrok.kill()\n",
        "# Start ngrok tunnel\n",
        "public_url = ngrok.connect(5000)\n",
        "print(\"Ngrok Public URL:\", public_url)\n"
      ],
      "metadata": {
        "colab": {
          "base_uri": "https://localhost:8080/"
        },
        "id": "5zcj01b5gcli",
        "outputId": "ddbd8352-164f-4d55-cca0-7e39a138368b"
      },
      "execution_count": null,
      "outputs": [
        {
          "output_type": "stream",
          "name": "stdout",
          "text": [
            " * Serving Flask app '__main__'\n",
            " * Debug mode: off\n"
          ]
        },
        {
          "output_type": "stream",
          "name": "stderr",
          "text": [
            "INFO:werkzeug:\u001b[31m\u001b[1mWARNING: This is a development server. Do not use it in a production deployment. Use a production WSGI server instead.\u001b[0m\n",
            " * Running on all addresses (0.0.0.0)\n",
            " * Running on http://127.0.0.1:5000\n",
            " * Running on http://172.28.0.12:5000\n",
            "INFO:werkzeug:\u001b[33mPress CTRL+C to quit\u001b[0m\n"
          ]
        },
        {
          "output_type": "stream",
          "name": "stdout",
          "text": [
            "Ngrok Public URL: NgrokTunnel: \"https://db09a9400fb6.ngrok-free.app\" -> \"http://localhost:5000\"\n"
          ]
        }
      ]
    }
  ]
}
